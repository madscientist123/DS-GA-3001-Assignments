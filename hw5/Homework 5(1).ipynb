{
 "cells": [
  {
   "cell_type": "code",
   "execution_count": 22,
   "metadata": {},
   "outputs": [],
   "source": [
    "import numpy as np\n",
    "from sklearn.model_selection import KFold\n",
    "import matplotlib.pyplot as plt \n",
    "from sklearn.multiclass import OneVsRestClassifier\n",
    "from sklearn.svm import SVC\n",
    "%matplotlib inline"
   ]
  },
  {
   "cell_type": "code",
   "execution_count": 23,
   "metadata": {},
   "outputs": [],
   "source": [
    "data_train=np.loadtxt(\"mnist_train.txt\",delimiter=\",\")\n",
    "y_train,X_train = data_train[:,0],data_train[:,1:]\n",
    "data_test=np.loadtxt(\"mnist_test.txt\",delimiter=\",\")\n",
    "y_test,X_test = data_test[:,0],data_test[:,1:]"
   ]
  },
  {
   "cell_type": "markdown",
   "metadata": {},
   "source": [
    "Question 3a)"
   ]
  },
  {
   "cell_type": "markdown",
   "metadata": {},
   "source": [
    "Featurizing the data to be between -1 and 1"
   ]
  },
  {
   "cell_type": "code",
   "execution_count": 24,
   "metadata": {},
   "outputs": [],
   "source": [
    "X_train = 2*(X_train/255 - 0.5)\n",
    "X_test = 2*(X_test/255 - 0.5)"
   ]
  },
  {
   "cell_type": "markdown",
   "metadata": {},
   "source": [
    "Question 3b)"
   ]
  },
  {
   "cell_type": "code",
   "execution_count": 44,
   "metadata": {},
   "outputs": [],
   "source": [
    "def pegasos_svm_train(K,y,Lambda=2**-8):\n",
    "    alpha = np.zeros(y.shape[0])\n",
    "    t=0\n",
    "    for iter in range(0,50):\n",
    "        for index in range(0,y.shape[0]):\n",
    "            j = np.random.randint(y.shape[0])\n",
    "            yj = y[j]\n",
    "            t=t+1\n",
    "            eta = 1/(t*Lambda)\n",
    "            if yj*(K[j,:].T@alpha) < 1:\n",
    "                alpha = (1-eta*Lambda)*alpha\n",
    "                alpha[j] = (1-eta*Lambda)*alpha[j] + eta*yj\n",
    "            else:\n",
    "                alpha = (1-eta*Lambda)*alpha\n",
    "    return alpha"
   ]
  },
  {
   "cell_type": "markdown",
   "metadata": {},
   "source": [
    "This is a generlaized kernel prediction method which is calculated using X as the training vector, Z as the data point to be predicted which is predicted using alpha.phi(Xi).phi(Z)"
   ]
  },
  {
   "cell_type": "code",
   "execution_count": 26,
   "metadata": {},
   "outputs": [],
   "source": [
    "def phi(X):\n",
    "    return X"
   ]
  },
  {
   "cell_type": "code",
   "execution_count": 27,
   "metadata": {},
   "outputs": [],
   "source": [
    "def kernelized_pred(X,Z,alpha):\n",
    "    yhat = np.zeros(Z.shape[0])\n",
    "    for i in range(Z.shape[0]):\n",
    "        K = phi(X)@phi(Z[i,:])\n",
    "        yhat[i] = alpha.T@K\n",
    "    return yhat "
   ]
  },
  {
   "cell_type": "code",
   "execution_count": 28,
   "metadata": {},
   "outputs": [],
   "source": [
    "def kernelized_weights(alpha,X):\n",
    "    w = np.zeros(X.shape[1])\n",
    "    for i in range(alpha.shape[0]):\n",
    "        w = w+alpha[i]*X[i,:]\n",
    "    return w.T\n",
    "    "
   ]
  },
  {
   "cell_type": "markdown",
   "metadata": {},
   "source": [
    "Calculating the linear kernel"
   ]
  },
  {
   "cell_type": "code",
   "execution_count": 15,
   "metadata": {},
   "outputs": [],
   "source": [
    "linear_kernel = X_train@X_train.T"
   ]
  },
  {
   "cell_type": "code",
   "execution_count": 16,
   "metadata": {},
   "outputs": [],
   "source": [
    "yhats = np.zeros((X_train.shape[0],10))\n",
    "ws = np.zeros((X_train.shape[1],10))\n",
    "for number in range (10):\n",
    "    y_temp = np.array(y_train)\n",
    "    y_temp[y_train!=number] = -1\n",
    "    y_temp[y_train==number] = 1\n",
    "    alpha = pegasos_svm_train(linear_kernel,y_temp)\n",
    "    yhats[:,number] = kernelized_pred(X_train,X_train,alpha)\n",
    "\n",
    "    "
   ]
  },
  {
   "cell_type": "markdown",
   "metadata": {},
   "source": [
    "Finding the indexes of the maximum scores"
   ]
  },
  {
   "cell_type": "code",
   "execution_count": 20,
   "metadata": {},
   "outputs": [
    {
     "name": "stdout",
     "output_type": "stream",
     "text": [
      "The labels are [3 5 0 ... 2 9 3]\n"
     ]
    }
   ],
   "source": [
    "y_pred = np.argmax(yhats,axis=1)\n",
    "print(\"The labels are \" + str(y_pred))"
   ]
  },
  {
   "cell_type": "code",
   "execution_count": 19,
   "metadata": {},
   "outputs": [
    {
     "name": "stdout",
     "output_type": "stream",
     "text": [
      "Training accuracy 0.984\n"
     ]
    }
   ],
   "source": [
    "print(\"Training accuracy \" + str(np.mean(y_pred==y_train)))"
   ]
  },
  {
   "cell_type": "markdown",
   "metadata": {},
   "source": [
    "Quetsion 3c) "
   ]
  },
  {
   "cell_type": "code",
   "execution_count": 51,
   "metadata": {},
   "outputs": [],
   "source": [
    "lambdas = 2**np.arange(5,0,-1)\n",
    "kf = KFold(n_splits=5)\n",
    "e=[]\n",
    "for l in lambdas:\n",
    "    e_temp=[]\n",
    "    for train,test in kf.split(X_train):\n",
    "        X = X_train[train,:]\n",
    "        y = y_train[train]\n",
    "        X_test1 = X_train[test,:]\n",
    "        y_test1 = y_train[test]\n",
    "        yhats = np.zeros((X_test1.shape[0],10))\n",
    "        ws = np.zeros((X_train.shape[1],10))\n",
    "        linear_kernel = X@X.T\n",
    "        for number in range (10):\n",
    "            y_temp = np.array(y)\n",
    "            y_temp[y!=number] = -1\n",
    "            y_temp[y==number] = 1\n",
    "            alpha = pegasos_svm_train(linear_kernel,y_temp,Lambda=l)\n",
    "            yhats[:,number] = kernelized_pred(X,X_test1,alpha)\n",
    "        y_pred = np.argmax(yhats,axis=1)\n",
    "        e_temp.append(np.mean(y_pred!=y_test1))\n",
    "    error=np.mean(np.array(e_temp))\n",
    "    e.append(error)    "
   ]
  },
  {
   "cell_type": "code",
   "execution_count": 52,
   "metadata": {},
   "outputs": [
    {
     "data": {
      "image/png": "[encoded data removed]",
      "text/plain": [
       "<Figure size 432x288 with 1 Axes>"
      ]
     },
     "metadata": {
      "needs_background": "light"
     },
     "output_type": "display_data"
    }
   ],
   "source": [
    "plt.plot(lambdas,e)\n",
    "plt.show()"
   ]
  },
  {
   "cell_type": "code",
   "execution_count": 53,
   "metadata": {},
   "outputs": [
    {
     "name": "stdout",
     "output_type": "stream",
     "text": [
      "Best Lambda = 2\n"
     ]
    }
   ],
   "source": [
    "print(\"Best Lambda = \" + str(lambdas[np.argmin(e)]))"
   ]
  },
  {
   "cell_type": "code",
   "execution_count": 49,
   "metadata": {},
   "outputs": [
    {
     "name": "stdout",
     "output_type": "stream",
     "text": [
      "Test accuracy 0.817\n"
     ]
    }
   ],
   "source": [
    "yhats = np.zeros((X_test.shape[0],10))\n",
    "linear_kernel=X_train@X_train.T\n",
    "for number in range (10):\n",
    "    y_temp = np.array(y_train)\n",
    "    y_temp[y_train!=number] = -1\n",
    "    y_temp[y_train==number] = 1\n",
    "    alpha = pegasos_svm_train(X_train@X_train.T,y_temp,Lambda=2.**1)\n",
    "    #w = kernelized_weights(alpha,X_train)\n",
    "    yhats[:,number] = kernelized_pred(X_train,X_test,alpha)\n",
    "y_pred = np.argmax(yhats,axis=1)\n",
    "print(\"Test accuracy \" + str(np.mean(y_pred==y_test)))"
   ]
  },
  {
   "cell_type": "code",
   "execution_count": 50,
   "metadata": {},
   "outputs": [
    {
     "name": "stdout",
     "output_type": "stream",
     "text": [
      "Test error 18.3\n"
     ]
    }
   ],
   "source": [
    "print(\"Test error \" + str(100*np.mean(y_pred!=y_test)))"
   ]
  },
  {
   "cell_type": "markdown",
   "metadata": {},
   "source": [
    "Question 3d)"
   ]
  },
  {
   "cell_type": "markdown",
   "metadata": {},
   "source": [
    "x_train and x_test are already between -1 and 1"
   ]
  },
  {
   "cell_type": "code",
   "execution_count": 68,
   "metadata": {},
   "outputs": [
    {
     "data": {
      "text/plain": [
       "OneVsRestClassifier(estimator=SVC(C=1, cache_size=200, class_weight=None,\n",
       "                                  coef0=0.0, decision_function_shape='ovr',\n",
       "                                  degree=3, gamma=0.0012755102040816326,\n",
       "                                  kernel='rbf', max_iter=-1, probability=False,\n",
       "                                  random_state=None, shrinking=True, tol=0.001,\n",
       "                                  verbose=False),\n",
       "                    n_jobs=None)"
      ]
     },
     "execution_count": 68,
     "metadata": {},
     "output_type": "execute_result"
    }
   ],
   "source": [
    "num_features = X_train.shape[1]\n",
    "gamma = 1/num_features\n",
    "C=1\n",
    "svc = OneVsRestClassifier(SVC(gamma=gamma,C=C))\n",
    "svc.fit(X_train,y_train)"
   ]
  },
  {
   "cell_type": "code",
   "execution_count": 71,
   "metadata": {},
   "outputs": [
    {
     "name": "stdout",
     "output_type": "stream",
     "text": [
      "Test error is 0.09\n"
     ]
    }
   ],
   "source": [
    "yhat = svc.predict(X_test)\n",
    "print(\"Test error is \" + str(np.mean(yhat!=y_test)))"
   ]
  },
  {
   "cell_type": "markdown",
   "metadata": {},
   "source": [
    "Question 3e)"
   ]
  },
  {
   "cell_type": "code",
   "execution_count": 75,
   "metadata": {},
   "outputs": [],
   "source": [
    "def cross_validation_error(gamma,C):\n",
    "    kf = KFold(n_splits=10)\n",
    "    e=[]\n",
    "    svc = OneVsRestClassifier(SVC(gamma=gamma,C=C))\n",
    "    for train,test in kf.split(X_train):\n",
    "        Xtr = X_train[train,:]\n",
    "        ytr = y_train[train]\n",
    "        Xts = X_train[test,:]\n",
    "        yts = y_train[test]\n",
    "        svc.fit(Xtr,ytr)\n",
    "        yhat = svc.predict(Xts)\n",
    "        e.append(np.mean(yhat!=yts))\n",
    "    return np.mean(e)\n",
    "    "
   ]
  },
  {
   "cell_type": "code",
   "execution_count": 76,
   "metadata": {},
   "outputs": [
    {
     "name": "stdout",
     "output_type": "stream",
     "text": [
      "Cross validation error for default settings is 0.0945\n"
     ]
    }
   ],
   "source": [
    "print(\"Cross validation error for default settings is \" + str(cross_validation_error(gamma,C)))"
   ]
  },
  {
   "cell_type": "markdown",
   "metadata": {},
   "source": [
    "Question 3f)"
   ]
  },
  {
   "cell_type": "code",
   "execution_count": 5,
   "metadata": {},
   "outputs": [],
   "source": [
    "gamma = 10.**np.arange(0,-5,-1)\n",
    "C = np.array([0.01,0.1,1,2,3,4,5])\n",
    "param_grid = {\"gamma\" : gamma, \"C\":C}"
   ]
  },
  {
   "cell_type": "code",
   "execution_count": 6,
   "metadata": {},
   "outputs": [],
   "source": [
    "from sklearn.model_selection import GridSearchCV\n",
    "from sklearn.model_selection import PredefinedSplit\n",
    "from sklearn.metrics import accuracy_score, make_scorer\n",
    "\n",
    "clf = GridSearchCV(SVC(),param_grid,return_train_score=True,cv=10,refit=True,scoring = make_scorer(accuracy_score,greater_is_better=True))\n",
    "    "
   ]
  },
  {
   "cell_type": "code",
   "execution_count": 7,
   "metadata": {},
   "outputs": [
    {
     "data": {
      "text/plain": [
       "GridSearchCV(cv=10, error_score='raise-deprecating',\n",
       "             estimator=SVC(C=1.0, cache_size=200, class_weight=None, coef0=0.0,\n",
       "                           decision_function_shape='ovr', degree=3,\n",
       "                           gamma='auto_deprecated', kernel='rbf', max_iter=-1,\n",
       "                           probability=False, random_state=None, shrinking=True,\n",
       "                           tol=0.001, verbose=False),\n",
       "             iid='warn', n_jobs=None,\n",
       "             param_grid={'C': array([0.01, 0.1 , 1.  , 2.  , 3.  , 4.  , 5.  ]),\n",
       "                         'gamma': array([1.e+00, 1.e-01, 1.e-02, 1.e-03, 1.e-04])},\n",
       "             pre_dispatch='2*n_jobs', refit=True, return_train_score=True,\n",
       "             scoring=make_scorer(accuracy_score), verbose=0)"
      ]
     },
     "execution_count": 7,
     "metadata": {},
     "output_type": "execute_result"
    }
   ],
   "source": [
    "clf.fit(X_train,y_train)"
   ]
  },
  {
   "cell_type": "code",
   "execution_count": 10,
   "metadata": {},
   "outputs": [
    {
     "name": "stdout",
     "output_type": "stream",
     "text": [
      "Cross validation error after tuning C and gamma is 5.449999999999999\n"
     ]
    }
   ],
   "source": [
    "print(\"Cross validation error after tuning C and gamma is \" + str(100*(1-clf.best_score_)))"
   ]
  },
  {
   "cell_type": "code",
   "execution_count": 13,
   "metadata": {},
   "outputs": [
    {
     "name": "stdout",
     "output_type": "stream",
     "text": [
      "Best Value of C is 2.0\n",
      "Best Value of C is 0.01\n"
     ]
    }
   ],
   "source": [
    "c_best = clf.best_params_['C']\n",
    "gamma_best = clf.best_params_['gamma']\n",
    "print(\"Best Value of C is \" + str(c_best) )\n",
    "print(\"Best Value of gamma is \" + str(gamma_best) )"
   ]
  },
  {
   "cell_type": "code",
   "execution_count": 15,
   "metadata": {},
   "outputs": [
    {
     "name": "stdout",
     "output_type": "stream",
     "text": [
      "Accuracy on test set 0.946\n",
      "Error on test set 0.054\n"
     ]
    }
   ],
   "source": [
    "svm = SVC(gamma=gamma_best,C=c_best)\n",
    "svm.fit(X_train,y_train)\n",
    "yhat = svm.predict(X_test)\n",
    "print(\"Accuracy on test set \" + str(np.mean(yhat==y_test)))\n",
    "print(\"Error on test set \" + str(np.mean(yhat!=y_test)))"
   ]
  },
  {
   "cell_type": "code",
   "execution_count": null,
   "metadata": {},
   "outputs": [],
   "source": []
  }
 ],
 "metadata": {
  "kernelspec": {
   "display_name": "Python 3",
   "language": "python",
   "name": "python3"
  },
  "language_info": {
   "codemirror_mode": {
    "name": "ipython",
    "version": 3
   },
   "file_extension": ".py",
   "mimetype": "text/x-python",
   "name": "python",
   "nbconvert_exporter": "python",
   "pygments_lexer": "ipython3",
   "version": "3.7.0"
  }
 },
 "nbformat": 4,
 "nbformat_minor": 2
}
