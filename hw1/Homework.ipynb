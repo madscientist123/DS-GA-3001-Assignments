{
 "cells": [
  {
   "cell_type": "code",
   "execution_count": 1,
   "metadata": {},
   "outputs": [],
   "source": [
    "import sklearn as sk\n",
    "import scipy\n",
    "import pandas as pd\n",
    "import numpy as np\n",
    "from sklearn.model_selection import train_test_split\n",
    "import os\n",
    "from sklearn.feature_extraction.text import CountVectorizer\n",
    "import matplotlib.pyplot as plt\n"
   ]
  },
  {
   "cell_type": "markdown",
   "metadata": {},
   "source": [
    "Loading file containing training and validation data sets as well as another file containing test data set"
   ]
  },
  {
   "cell_type": "code",
   "execution_count": 2,
   "metadata": {},
   "outputs": [],
   "source": [
    "filePath = \"spam_train.txt\"\n",
    "file=open(filePath)\n",
    "emailList = file.read().splitlines()  \n",
    "filePath2 = \"spam_test.txt\"\n",
    "file2=open(filePath2)\n",
    "testList = file2.read().splitlines()"
   ]
  },
  {
   "cell_type": "markdown",
   "metadata": {},
   "source": [
    "Splitting data into training set and validation set\n",
    "If the Validation set was not created,It would not be possible to adjust the parameters like no of data passes and Number of words to be removed from the vocabulary so as to adjust the weight vector to yeild the best result since you are not allowed to look at the test set."
   ]
  },
  {
   "cell_type": "code",
   "execution_count": 3,
   "metadata": {},
   "outputs": [],
   "source": [
    "train_data=emailList[0:4000]\n",
    "validation_data=emailList[4000:]"
   ]
  },
  {
   "cell_type": "markdown",
   "metadata": {},
   "source": [
    "Extracting out spam values from the above data for train  ,validation set as well as test set"
   ]
  },
  {
   "cell_type": "code",
   "execution_count": 4,
   "metadata": {},
   "outputs": [],
   "source": [
    "new_email_train=[]\n",
    "spam_value_train=[]\n",
    "for email in train_data:\n",
    "    spam_value_train.append((int)(email[0]))\n",
    "    new_email_train.append(email[2:])\n",
    "new_email_validate=[]\n",
    "spam_value_validate=[]\n",
    "for email in validation_data:\n",
    "    spam_value_validate.append((int)(email[0]))\n",
    "    new_email_validate.append(email[2:])\n",
    "    \n",
    "for i in range(0,len(spam_value_train)):\n",
    "    if(spam_value_train[i]==0):\n",
    "        spam_value_train[i]=-1\n",
    "\n",
    "for i in range(0,len(spam_value_validate)):\n",
    "    if(spam_value_validate[i]==0):\n",
    "        spam_value_validate[i]=-1\n",
    "\n",
    "new_email_test=[]\n",
    "spam_value_test=[]\n",
    "for email in testList:\n",
    "    spam_value_test.append((int)(email[0]))\n",
    "    new_email_test.append(email[2:])\n",
    "\n"
   ]
  },
  {
   "cell_type": "markdown",
   "metadata": {},
   "source": [
    "Calculating the frequency of each word in the vocabulary(In how many emails they appeared)"
   ]
  },
  {
   "cell_type": "code",
   "execution_count": 5,
   "metadata": {},
   "outputs": [],
   "source": [
    "count_vect = CountVectorizer()\n",
    "email_train_counts = count_vect.fit_transform(new_email_train)\n",
    "email_train_counts_validate = count_vect.transform(new_email_validate)\n",
    "email_train_counts_test = count_vect.transform(new_email_test)\n",
    "\n",
    "freq={}\n",
    "cx = scipy.sparse.coo_matrix(email_train_counts)\n",
    "cxv = scipy.sparse.coo_matrix(email_train_counts_validate)\n",
    "cxt = scipy.sparse.coo_matrix(email_train_counts_test)\n",
    "\n",
    "for i,j in zip(cx.row, cx.col):\n",
    "    if(j in freq.keys()):\n",
    "        freq[j] = freq[j]+1\n",
    "    else:\n",
    "        freq[j]=1\n",
    "\n",
    "\n"
   ]
  },
  {
   "cell_type": "markdown",
   "metadata": {},
   "source": [
    "Removing words whose freq is less than 30 from the vocab(Initially 30 was used but 60 yeilded a better error performance)"
   ]
  },
  {
   "cell_type": "code",
   "execution_count": 6,
   "metadata": {},
   "outputs": [],
   "source": [
    "words=[]\n",
    "for key in count_vect.vocabulary_:\n",
    "    if(freq[count_vect.vocabulary_[key]]<30):\n",
    "        words.append(key)\n",
    "for word in words:\n",
    "    count_vect.vocabulary_.pop(word)"
   ]
  },
  {
   "cell_type": "markdown",
   "metadata": {},
   "source": [
    "Storing the words and the corresponding unique id in a dictionary"
   ]
  },
  {
   "cell_type": "code",
   "execution_count": 7,
   "metadata": {},
   "outputs": [],
   "source": [
    "words_to_number_map={}\n",
    "i=0\n",
    "for key in count_vect.vocabulary_:\n",
    "    words_to_number_map[count_vect.vocabulary_[key]] = i\n",
    "    i=i+1"
   ]
  },
  {
   "cell_type": "markdown",
   "metadata": {},
   "source": [
    "Forming a feature vector for training data and validation data"
   ]
  },
  {
   "cell_type": "code",
   "execution_count": 8,
   "metadata": {},
   "outputs": [],
   "source": [
    "feature_vector = np.zeros((4000,len(words_to_number_map)),dtype=int)\n",
    "for i,j in zip(cx.row, cx.col):\n",
    "    if(j in words_to_number_map.keys()):\n",
    "        feature_vector[i][words_to_number_map[j]]=1\n",
    "feature_vector_validate = np.zeros((1000,len(words_to_number_map)),dtype=int)\n",
    "for i,j in zip(cxv.row, cxv.col):\n",
    "    if(j in words_to_number_map.keys()):\n",
    "        feature_vector_validate[i][words_to_number_map[j]]=1        \n"
   ]
  },
  {
   "cell_type": "markdown",
   "metadata": {},
   "source": [
    "Implementing the Perceptron Train Method returning w,iterations,count_wrong"
   ]
  },
  {
   "cell_type": "code",
   "execution_count": 9,
   "metadata": {},
   "outputs": [],
   "source": [
    "def perceptron_train(feature_vector,spam_value_train):\n",
    "    w = np.zeros(len(feature_vector[1]))\n",
    "    count=1\n",
    "    iterations=0\n",
    "    count_wrong=0\n",
    "    while(count!=0):\n",
    "        count=0\n",
    "        for i in range(0,len(feature_vector)):\n",
    "            x = feature_vector[i]\n",
    "            y = spam_value_train[i]\n",
    "            product = np.dot(w,x)\n",
    "            if(y*product<0 or (y*product==0 and y==-1)):\n",
    "                w = w + y*x\n",
    "                count_wrong=count_wrong+1\n",
    "                count=count+1\n",
    "        iterations=iterations+1\n",
    "    return w,iterations,count_wrong\n",
    "w,iterations,incorrect_no = perceptron_train(feature_vector,spam_value_train)\n"
   ]
  },
  {
   "cell_type": "markdown",
   "metadata": {},
   "source": [
    "Implementing the Perceptron_test method"
   ]
  },
  {
   "cell_type": "code",
   "execution_count": 10,
   "metadata": {},
   "outputs": [],
   "source": [
    "def perceptron_test(w,feature_vector_validate,spam_value_validate):\n",
    "    sum=0\n",
    "    for i in range(0,len(feature_vector_validate)):\n",
    "        if(spam_value_validate[i]*np.dot(w,feature_vector_validate[i])<0 or(np.dot(w,feature_vector_validate[i])==0 and spam_value_validate[i]==-1) ):\n",
    "            sum=sum+1\n",
    "    return sum/len(feature_vector_validate)\n",
    "errors = perceptron_test(w,feature_vector_validate,spam_value_validate)"
   ]
  },
  {
   "cell_type": "markdown",
   "metadata": {},
   "source": [
    "Next block contains the Value of The errors made before converging and the validation error"
   ]
  },
  {
   "cell_type": "code",
   "execution_count": 11,
   "metadata": {},
   "outputs": [
    {
     "name": "stdout",
     "output_type": "stream",
     "text": [
      "The number of errors made to reach convergence: 443 The validation error = 0.023\n"
     ]
    }
   ],
   "source": [
    "print(\"The number of errors made to reach convergence: \" + str(incorrect_no) + \" The validation error = \"+str(errors))\n"
   ]
  },
  {
   "cell_type": "markdown",
   "metadata": {},
   "source": [
    "Finding out the 15 most negative weights"
   ]
  },
  {
   "cell_type": "code",
   "execution_count": 12,
   "metadata": {},
   "outputs": [
    {
     "data": {
      "text/plain": [
       "['wrote',\n",
       " 'prefer',\n",
       " 'still',\n",
       " 'server',\n",
       " 'inc',\n",
       " 'rpm',\n",
       " 'reserv',\n",
       " 'url',\n",
       " 'technolog',\n",
       " 'execut',\n",
       " 're',\n",
       " 'said',\n",
       " 'standard',\n",
       " 'microsoft',\n",
       " 'post']"
      ]
     },
     "execution_count": 12,
     "metadata": {},
     "output_type": "execute_result"
    }
   ],
   "source": [
    "word_weights_map={}\n",
    "i=0\n",
    "for weight in w:\n",
    "    word_id = list(words_to_number_map.keys())[list(words_to_number_map.values()).index(i)]\n",
    "    word = list(count_vect.vocabulary_.keys())[list(count_vect.vocabulary_.values()).index(word_id)]\n",
    "    if(weight in word_weights_map.keys()):\n",
    "        new_list=word_weights_map[weight]\n",
    "        new_list.append(word)\n",
    "        word_weights_map[weight] = new_list\n",
    "    else:\n",
    "        word_list=[]\n",
    "        word_list.append(word)\n",
    "        word_weights_map[weight] = word_list\n",
    "    i=i+1\n",
    "count = 15\n",
    "negative_list=[]\n",
    "for key in sorted(word_weights_map.keys()):\n",
    "    wlist = word_weights_map[key]\n",
    "    for word in wlist:\n",
    "        negative_list.append(word)\n",
    "        count=count-1\n",
    "        if(count <= 0):\n",
    "            break\n",
    "    if(count <= 0):\n",
    "            break\n",
    "negative_list"
   ]
  },
  {
   "cell_type": "markdown",
   "metadata": {},
   "source": [
    "Finding out 15 Most positive words"
   ]
  },
  {
   "cell_type": "code",
   "execution_count": 13,
   "metadata": {},
   "outputs": [
    {
     "data": {
      "text/plain": [
       "['remov',\n",
       " 'click',\n",
       " 'sight',\n",
       " 'our',\n",
       " 'market',\n",
       " 'guarante',\n",
       " 'deathtospamdeathtospamdeathtospam',\n",
       " 'price',\n",
       " 'present',\n",
       " 'hour',\n",
       " 'will',\n",
       " 'process',\n",
       " 'pleas',\n",
       " 'size',\n",
       " 'ever']"
      ]
     },
     "execution_count": 13,
     "metadata": {},
     "output_type": "execute_result"
    }
   ],
   "source": [
    "positive_list=[]\n",
    "count=15\n",
    "for key in sorted(word_weights_map.keys(),reverse=True):\n",
    "    wlist = word_weights_map[key]\n",
    "    for word in wlist:\n",
    "        positive_list.append(word)\n",
    "        count=count-1\n",
    "        if(count <= 0):\n",
    "            break\n",
    "    if(count <= 0):\n",
    "            break\n",
    "positive_list"
   ]
  },
  {
   "cell_type": "code",
   "execution_count": 14,
   "metadata": {},
   "outputs": [],
   "source": [
    "def average_perceptron_train(feature_vector,spam_value_train):\n",
    "    w = np.zeros(len(feature_vector[1]))\n",
    "    cnt=1\n",
    "    itera=0\n",
    "    avg_w=np.zeros(len(feature_vector[1]))\n",
    "    while(cnt!=0):\n",
    "        cnt=0\n",
    "        for i in range(0,len(feature_vector)):\n",
    "            x = feature_vector[i]\n",
    "            y = spam_value_train[i]\n",
    "            product = np.dot(w,x)\n",
    "            if(y*product<0 or (y*product==0 and y==-1)):\n",
    "                w = w + y*x\n",
    "                cnt=cnt+1\n",
    "            avg_w=avg_w+w\n",
    "            itera=itera+1\n",
    "    return avg_w/itera\n"
   ]
  },
  {
   "cell_type": "markdown",
   "metadata": {},
   "source": [
    "Overloading functions with iterations as a param"
   ]
  },
  {
   "cell_type": "code",
   "execution_count": 15,
   "metadata": {},
   "outputs": [],
   "source": [
    "def perceptron_train(feature_vector,spam_value_train,Iterations):\n",
    "    w = np.zeros(len(feature_vector[1]))\n",
    "    iterations=0\n",
    "    while(iterations <Iterations ):\n",
    "        for i in range(0,len(feature_vector)):\n",
    "            x = feature_vector[i]\n",
    "            y = spam_value_train[i]\n",
    "            product = np.dot(w,x)\n",
    "            if(y*product<0 or (y*product==0 and y==-1)):\n",
    "                w = w + y*x\n",
    "        iterations=iterations+1\n",
    "    return w\n",
    "def average_perceptron_train(feature_vector,spam_value_train,Iterations):\n",
    "    w = np.zeros(len(feature_vector[1]))\n",
    "    itera=0\n",
    "    avg_w=np.zeros(len(feature_vector[1]))\n",
    "    while(itera <Iterations):\n",
    "        for i in range(0,len(feature_vector)):\n",
    "            x = feature_vector[i]\n",
    "            y = spam_value_train[i]\n",
    "            product = np.dot(w,x)\n",
    "            if(y*product<0 or (y*product==0 and y==-1)):\n",
    "                w = w + y*x\n",
    "        itera=itera+1\n",
    "        avg_w=avg_w+w\n",
    "    return avg_w/itera"
   ]
  },
  {
   "cell_type": "code",
   "execution_count": 16,
   "metadata": {},
   "outputs": [
    {
     "data": {
      "image/png": "[encoded data removed]",
      "text/plain": [
       "<Figure size 432x288 with 1 Axes>"
      ]
     },
     "metadata": {
      "needs_background": "light"
     },
     "output_type": "display_data"
    }
   ],
   "source": [
    "e1=[]\n",
    "e2=[]\n",
    "iter=[]\n",
    "for Iterations in range(1,50):\n",
    "    w1 = perceptron_train(feature_vector,spam_value_train,Iterations)\n",
    "    w2 = average_perceptron_train(feature_vector,spam_value_train,Iterations)\n",
    "    e1.append(perceptron_test(w1,feature_vector_validate,spam_value_validate))\n",
    "    e2.append(perceptron_test(w2,feature_vector_validate,spam_value_validate))\n",
    "    iter.append(Iterations)\n",
    "    \n",
    "plt.plot(iter, e1, color='g')\n",
    "plt.plot(iter, e2, color='orange')\n",
    "plt.xlabel('Iterations')\n",
    "plt.ylabel('Validation Error')\n",
    "plt.show()\n",
    "\n",
    "    \n",
    "    "
   ]
  },
  {
   "cell_type": "markdown",
   "metadata": {},
   "source": [
    "The best validation Error for X=30 and 50 iterations was (perceptron)"
   ]
  },
  {
   "cell_type": "code",
   "execution_count": 17,
   "metadata": {},
   "outputs": [
    {
     "data": {
      "text/plain": [
       "0.023"
      ]
     },
     "execution_count": 17,
     "metadata": {},
     "output_type": "execute_result"
    }
   ],
   "source": [
    "e1[len(e1)-1]"
   ]
  },
  {
   "cell_type": "markdown",
   "metadata": {},
   "source": [
    "The best validation Error for X=30 and 50 iterations was (Average perceptron)"
   ]
  },
  {
   "cell_type": "code",
   "execution_count": 19,
   "metadata": {},
   "outputs": [
    {
     "data": {
      "text/plain": [
       "0.023"
      ]
     },
     "execution_count": 19,
     "metadata": {},
     "output_type": "execute_result"
    }
   ],
   "source": [
    "e2[len(e2)-1]"
   ]
  },
  {
   "cell_type": "markdown",
   "metadata": {},
   "source": [
    "Combining validating data and test data into one and using X=60 emails and iterations = 50 for minimising values. This parameter combination values yeilded an error of 0.013 which was minimum"
   ]
  },
  {
   "cell_type": "code",
   "execution_count": 125,
   "metadata": {},
   "outputs": [
    {
     "data": {
      "text/plain": [
       "array([-5., -9., -8., ..., -3.,  0., -3.])"
      ]
     },
     "execution_count": 125,
     "metadata": {},
     "output_type": "execute_result"
    }
   ],
   "source": [
    "emails=[]\n",
    "spam_value=[]\n",
    "for email in emailList:\n",
    "    spam_value.append((int)(email[0]))\n",
    "    emails.append(email[2:])\n",
    "for i in range(0,len(spam_value)):\n",
    "    if(spam_value[i]==0):\n",
    "        spam_value[i]=-1\n",
    "feature_vector_final = np.concatenate((feature_vector,feature_vector_validate ), axis=0)\n",
    "w = perceptron_train(feature_vector_final,spam_value,100)\n",
    "w\n"
   ]
  },
  {
   "cell_type": "markdown",
   "metadata": {},
   "source": [
    "Calculating feature vector for test data and calculating error Performance"
   ]
  },
  {
   "cell_type": "code",
   "execution_count": 126,
   "metadata": {},
   "outputs": [
    {
     "data": {
      "text/plain": [
       "0.018"
      ]
     },
     "execution_count": 126,
     "metadata": {},
     "output_type": "execute_result"
    }
   ],
   "source": [
    "feature_vector_test = np.zeros((len(new_email_test),len(words_to_number_map)),dtype=int)\n",
    "for i,j in zip(cxt.row, cxt.col):\n",
    "    if(j in words_to_number_map.keys()):\n",
    "        feature_vector_test[i][words_to_number_map[j]]=1\n",
    "#feature_vector_test\n",
    "for i in range(0,len(spam_value_test)):\n",
    "    if(spam_value_test[i]==0):\n",
    "        spam_value_test[i]=-1\n",
    "perceptron_test(w,feature_vector_test,spam_value_test)"
   ]
  },
  {
   "cell_type": "markdown",
   "metadata": {},
   "source": [
    "Error For test data came out to be 0.018"
   ]
  }
 ],
 "metadata": {
  "kernelspec": {
   "display_name": "Python 3",
   "language": "python",
   "name": "python3"
  },
  "language_info": {
   "codemirror_mode": {
    "name": "ipython",
    "version": 3
   },
   "file_extension": ".py",
   "mimetype": "text/x-python",
   "name": "python",
   "nbconvert_exporter": "python",
   "pygments_lexer": "ipython3",
   "version": "3.7.0"
  }
 },
 "nbformat": 4,
 "nbformat_minor": 4
}
