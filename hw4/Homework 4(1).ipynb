{
 "cells": [
  {
   "cell_type": "code",
   "execution_count": 1,
   "metadata": {},
   "outputs": [],
   "source": [
    "import numpy as np\n",
    "import matplotlib.pyplot as plt\n",
    "import math\n",
    "import sklearn as sk\n",
    "import scipy\n",
    "import pandas as pd\n",
    "import numpy as np\n",
    "from sklearn.model_selection import train_test_split\n",
    "import os\n",
    "from sklearn.feature_extraction.text import CountVectorizer\n",
    "import matplotlib.pyplot as plt"
   ]
  },
  {
   "cell_type": "markdown",
   "metadata": {},
   "source": [
    "Question 4.1"
   ]
  },
  {
   "cell_type": "code",
   "execution_count": 2,
   "metadata": {},
   "outputs": [],
   "source": [
    "class_1 = np.array([[2,2],[4,4],[4,0]])\n",
    "class_2 = np.array([[0,0],[2,0],[0,2]])\n",
    "x_train = np.concatenate((class_1,class_2),axis=0)\n",
    "y_train = np.array([1,1,1,-1,-1,-1])"
   ]
  },
  {
   "cell_type": "code",
   "execution_count": 3,
   "metadata": {},
   "outputs": [
    {
     "data": {
      "image/png": "[encoded data removed]",
      "text/plain": [
       "<Figure size 432x288 with 1 Axes>"
      ]
     },
     "metadata": {
      "needs_background": "light"
     },
     "output_type": "display_data"
    }
   ],
   "source": [
    "plt.scatter(x_train[:,0],x_train[:,1],c=y_train,s = 200)\n",
    "#Introspected Optimal weight Vector\n",
    "w1=1\n",
    "w2=1\n",
    "b=-3\n",
    "decision_func = lambda x: - (w1/w2) * x - b/w2\n",
    "xvals = np.linspace(0, 4, 10)\n",
    "plt.plot(xvals, decision_func(xvals))\n",
    "plt.show()"
   ]
  },
  {
   "cell_type": "markdown",
   "metadata": {},
   "source": [
    "Yellow = +1 class\n",
    "Black = -1 class"
   ]
  },
  {
   "cell_type": "markdown",
   "metadata": {},
   "source": [
    "Hyperplane = x1 + x2 - 3"
   ]
  },
  {
   "cell_type": "code",
   "execution_count": 4,
   "metadata": {},
   "outputs": [
    {
     "name": "stdout",
     "output_type": "stream",
     "text": [
      "Margin is 1.414213562373095\n"
     ]
    }
   ],
   "source": [
    "#Calculating Margin\n",
    "gammas = (y_train.reshape(-1,1))*(w1*x_train[:,0] + w2*x_train[:,1] + b).reshape(-1,1)\n",
    "gamma = gammas.min()\n",
    "norm = math.sqrt(w1**2 + w2**2)\n",
    "margin = 2*gamma/norm\n",
    "print(\"Margin is \" + str(margin))\n"
   ]
  },
  {
   "cell_type": "markdown",
   "metadata": {},
   "source": [
    "Question 4.1.1b"
   ]
  },
  {
   "cell_type": "markdown",
   "metadata": {},
   "source": [
    "Support vectors are points in the training data which lie on the margin on either side of the plane. They are basically points which lie closest to the hypothesis plane for both the classes. In the above case they are the points in the -1 class and the +1 class which lie closest to the plane defined by w1x1+w2x2+b\n",
    "They are called support vectors because they are used in calculating the hyper plane in SVMs. They are responsible for seperating the classes and support the hyper plane, hence the name"
   ]
  },
  {
   "cell_type": "markdown",
   "metadata": {},
   "source": [
    "Question 4.2"
   ]
  },
  {
   "cell_type": "markdown",
   "metadata": {},
   "source": [
    "Spam Data Preprocessing"
   ]
  },
  {
   "cell_type": "code",
   "execution_count": 5,
   "metadata": {},
   "outputs": [],
   "source": [
    "filePath = \"spam_train.txt\"\n",
    "file=open(filePath)\n",
    "emailList = file.read().splitlines()\n",
    "filePath2 = \"spam_test.txt\"\n",
    "file2=open(filePath2)\n",
    "testList = file2.read().splitlines()"
   ]
  },
  {
   "cell_type": "code",
   "execution_count": 6,
   "metadata": {},
   "outputs": [],
   "source": [
    "train_data=emailList[0:4000]\n",
    "validation_data=emailList[4000:]"
   ]
  },
  {
   "cell_type": "code",
   "execution_count": 7,
   "metadata": {},
   "outputs": [],
   "source": [
    "new_email_train=[]\n",
    "spam_value_train=[]\n",
    "for email in train_data:\n",
    "    spam_value_train.append((int)(email[0]))\n",
    "    new_email_train.append(email[2:])\n",
    "new_email_validate=[]\n",
    "spam_value_validate=[]\n",
    "for email in validation_data:\n",
    "    spam_value_validate.append((int)(email[0]))\n",
    "    new_email_validate.append(email[2:])\n",
    "for i in range(0,len(spam_value_train)):\n",
    "    if(spam_value_train[i]==0):\n",
    "        spam_value_train[i]=-1\n",
    "for i in range(0,len(spam_value_validate)):\n",
    "    if(spam_value_validate[i]==0):\n",
    "        spam_value_validate[i]=-1\n",
    "new_email_test=[]\n",
    "spam_value_test=[]\n",
    "for email in testList:\n",
    "    spam_value_test.append((int)(email[0]))\n",
    "    new_email_test.append(email[2:])"
   ]
  },
  {
   "cell_type": "code",
   "execution_count": 8,
   "metadata": {},
   "outputs": [],
   "source": [
    "count_vect = CountVectorizer()\n",
    "email_train_counts = count_vect.fit_transform(new_email_train)\n",
    "email_train_counts_validate = count_vect.transform(new_email_validate)\n",
    "email_train_counts_test = count_vect.transform(new_email_test)\n",
    "\n",
    "freq={}\n",
    "cx = scipy.sparse.coo_matrix(email_train_counts)\n",
    "cxv = scipy.sparse.coo_matrix(email_train_counts_validate)\n",
    "cxt = scipy.sparse.coo_matrix(email_train_counts_test)\n",
    "for i,j in zip(cx.row, cx.col):\n",
    "    if(j in freq.keys()):\n",
    "        freq[j] = freq[j]+1\n",
    "    else:\n",
    "        freq[j]=1"
   ]
  },
  {
   "cell_type": "code",
   "execution_count": 9,
   "metadata": {},
   "outputs": [],
   "source": [
    "words=[]\n",
    "for key in count_vect.vocabulary_:\n",
    "    if(freq[count_vect.vocabulary_[key]]<30):\n",
    "        words.append(key)\n",
    "for word in words:\n",
    "    count_vect.vocabulary_.pop(word)"
   ]
  },
  {
   "cell_type": "code",
   "execution_count": 10,
   "metadata": {},
   "outputs": [],
   "source": [
    "words_to_number_map={}\n",
    "i=0\n",
    "for key in count_vect.vocabulary_:\n",
    "    words_to_number_map[count_vect.vocabulary_[key]] = i\n",
    "    i=i+1\n",
    "feature_vector = np.zeros((4000,len(words_to_number_map)),dtype=int)\n",
    "for i,j in zip(cx.row, cx.col):\n",
    "    if(j in words_to_number_map.keys()):\n",
    "        feature_vector[i][words_to_number_map[j]]=1\n",
    "feature_vector_validate = np.zeros((1000,len(words_to_number_map)),dtype=int)\n",
    "for i,j in zip(cxv.row, cxv.col):\n",
    "    if(j in words_to_number_map.keys()):\n",
    "        feature_vector_validate[i][words_to_number_map[j]]=1"
   ]
  },
  {
   "cell_type": "code",
   "execution_count": 17,
   "metadata": {},
   "outputs": [],
   "source": [
    "def pegasos_svm_train(data,w,Lambda=2**-5):\n",
    "    y=data[:,-1]\n",
    "    X = data[:,:-1]\n",
    "    t=0\n",
    "    J=[]\n",
    "    for iter in range(0,20):\n",
    "        for j in range(0,X.shape[0]):\n",
    "            xj = X[j]\n",
    "            yj = y[j]\n",
    "            t=t+1\n",
    "            eta = 1/(t*Lambda)\n",
    "            if yj*(w@xj) < 1:\n",
    "                w = (1-eta*Lambda)*w + eta*yj*xj\n",
    "            else:\n",
    "                w = (1-eta*Lambda)*w\n",
    "        norm = w.T@w\n",
    "        pred = X@w\n",
    "        expr= 1 - y*pred\n",
    "        expr[expr < 0] = 0\n",
    "        e = (1/(X.shape[0]))*np.sum(expr) + (Lambda/2)*norm \n",
    "        J.append(e)\n",
    "    return w,J\n",
    "            "
   ]
  },
  {
   "cell_type": "code",
   "execution_count": 18,
   "metadata": {},
   "outputs": [],
   "source": [
    "y = np.array(spam_value_train).reshape(-1,1)\n",
    "data = np.concatenate((feature_vector,y),axis=1)"
   ]
  },
  {
   "cell_type": "code",
   "execution_count": 34,
   "metadata": {},
   "outputs": [],
   "source": [
    "c,J=pegasos_svm_train(data,np.zeros(data.shape[1]-1))"
   ]
  },
  {
   "cell_type": "code",
   "execution_count": 20,
   "metadata": {
    "scrolled": true
   },
   "outputs": [
    {
     "data": {
      "image/png": "[encoded data removed]",
      "text/plain": [
       "<Figure size 432x288 with 1 Axes>"
      ]
     },
     "metadata": {
      "needs_background": "light"
     },
     "output_type": "display_data"
    }
   ],
   "source": [
    "t = np.arange(1,20*feature_vector.shape[0]+1,feature_vector.shape[0])\n",
    "plt.plot(t,J)\n",
    "plt.xlabel(\"t\")\n",
    "plt.ylabel(\"f(w)\")\n",
    "plt.show()"
   ]
  },
  {
   "cell_type": "markdown",
   "metadata": {},
   "source": [
    "Adding test data"
   ]
  },
  {
   "cell_type": "code",
   "execution_count": 21,
   "metadata": {},
   "outputs": [],
   "source": [
    "feature_vector_test = np.zeros((len(new_email_test),len(words_to_number_map)),dtype=int)\n",
    "for i,j in zip(cxt.row, cxt.col):\n",
    "    if(j in words_to_number_map.keys()):\n",
    "        feature_vector_test[i][words_to_number_map[j]]=1\n",
    "for i in range(0,len(spam_value_test)):\n",
    "    if(spam_value_test[i]==0):\n",
    "        spam_value_test[i]=-1"
   ]
  },
  {
   "cell_type": "markdown",
   "metadata": {},
   "source": [
    "Question 4.2"
   ]
  },
  {
   "cell_type": "markdown",
   "metadata": {},
   "source": [
    "Assuming that we are using 0-1 loss for this and not the hinge loss"
   ]
  },
  {
   "cell_type": "code",
   "execution_count": 29,
   "metadata": {},
   "outputs": [],
   "source": [
    "def pegasos_svm_test(data,w):\n",
    "    y=data[:,-1]\n",
    "    X = data[:,:-1]\n",
    "    pred = X@w\n",
    "    sum=0\n",
    "    for i in range(pred.shape[0]):\n",
    "        if(y[i]*pred[i]<0 or y[i]*pred[i]==0 and y[i]==-1):\n",
    "            sum=sum+1\n",
    "    return sum/pred.shape[0]\n",
    "    "
   ]
  },
  {
   "cell_type": "code",
   "execution_count": 23,
   "metadata": {},
   "outputs": [],
   "source": [
    "def hinge_loss(data,w):\n",
    "    y=data[:,-1]\n",
    "    X = data[:,:-1]\n",
    "    pred = X@w\n",
    "    sum=0\n",
    "    for i in range(pred.shape[0]):\n",
    "        sum=sum+max(0,1-y[i]*pred[i])\n",
    "    return sum/pred.shape[0]    "
   ]
  },
  {
   "cell_type": "code",
   "execution_count": 35,
   "metadata": {},
   "outputs": [
    {
     "name": "stdout",
     "output_type": "stream",
     "text": [
      "Error on the test data is 0.031\n"
     ]
    }
   ],
   "source": [
    "y_test = np.array(spam_value_test).reshape(-1,1)\n",
    "data_test = np.concatenate((feature_vector_test,y_test),axis=1)\n",
    "error=pegasos_svm_test(data_test,c)\n",
    "print(\"Error on the test data is \" + str(error))"
   ]
  },
  {
   "cell_type": "markdown",
   "metadata": {},
   "source": [
    "Question 4.3"
   ]
  },
  {
   "cell_type": "code",
   "execution_count": 25,
   "metadata": {},
   "outputs": [],
   "source": [
    "y_v = np.array(spam_value_validate).reshape(-1,1)\n",
    "data_validate = np.concatenate((feature_vector_validate,y_v),axis=1)"
   ]
  },
  {
   "cell_type": "code",
   "execution_count": 31,
   "metadata": {},
   "outputs": [
    {
     "data": {
      "text/plain": [
       "Text(0.5, 0, 'log Lambda')"
      ]
     },
     "execution_count": 31,
     "metadata": {},
     "output_type": "execute_result"
    },
    {
     "data": {
      "image/png": "[encoded data removed]",
      "text/plain": [
       "<Figure size 432x288 with 1 Axes>"
      ]
     },
     "metadata": {
      "needs_background": "light"
     },
     "output_type": "display_data"
    }
   ],
   "source": [
    "lambdas = 2.**np.arange(-9,1,1)\n",
    "xaxis=np.arange(-9,1,1)\n",
    "e=[]\n",
    "e_validate=[]\n",
    "e_hinge=[]\n",
    "\n",
    "for Lambda in lambdas:\n",
    "    c_train,J = pegasos_svm_train(data,np.zeros(data.shape[1]-1),Lambda=Lambda)\n",
    "    error = pegasos_svm_test(data,c_train)\n",
    "    error_val = pegasos_svm_test(data_validate,c_train)\n",
    "    error_hinge = hinge_loss(data,c_train)\n",
    "    e.append(error)\n",
    "    e_validate.append(error_val)\n",
    "    e_hinge.append(error_hinge)\n",
    "plt.plot(xaxis,e,color='g')\n",
    "plt.plot(xaxis,e_validate,color='b')\n",
    "plt.plot(xaxis,e_hinge,color='y')\n",
    "plt.ylabel(\"Error\")\n",
    "plt.xlabel(\"log Lambda\")\n"
   ]
  },
  {
   "cell_type": "markdown",
   "metadata": {},
   "source": [
    "Yellow - Hinge loss\n",
    "Blue - Validation Loss\n",
    "Green - Training Loss"
   ]
  },
  {
   "cell_type": "markdown",
   "metadata": {},
   "source": [
    "As we can see Hinge always upper bounds training error"
   ]
  },
  {
   "cell_type": "markdown",
   "metadata": {},
   "source": [
    "Question 4.4.1"
   ]
  },
  {
   "cell_type": "code",
   "execution_count": 32,
   "metadata": {},
   "outputs": [
    {
     "name": "stdout",
     "output_type": "stream",
     "text": [
      "Minimum Validation error = 0.018\n"
     ]
    }
   ],
   "source": [
    "print(\"Minimum Validation error = \" + str(np.min(e_validate)))"
   ]
  },
  {
   "cell_type": "markdown",
   "metadata": {},
   "source": [
    "Question 4.4.2"
   ]
  },
  {
   "cell_type": "code",
   "execution_count": 33,
   "metadata": {},
   "outputs": [
    {
     "name": "stdout",
     "output_type": "stream",
     "text": [
      "Error on the test set is 0.023\n"
     ]
    }
   ],
   "source": [
    "index = np.argmin(e_validate)\n",
    "Lambda = lambdas[index]\n",
    "c,J = pegasos_svm_train(data,np.zeros(data.shape[1]-1),Lambda)\n",
    "error = pegasos_svm_test(data_test,c)\n",
    "print(\"Error on the test set is \" + str(error))"
   ]
  },
  {
   "cell_type": "markdown",
   "metadata": {},
   "source": [
    "Question 4.4.3"
   ]
  },
  {
   "cell_type": "markdown",
   "metadata": {},
   "source": [
    "Support Vector machines basically try to find the largest margin which means the  perpendicular distance which is closest to either side of the hyper plane\n",
    "For this we first find $\\gamma$ such that\n",
    "$$\n",
    "    y_i(b+w_1x_{i1} + w_{i2}x_{i2}) \\geq \\gamma, \\mbox{ for all } i,\n",
    "$$\n",
    "Margin is then computed as\n",
    "$$ \n",
    "m = \\frac{\\gamma}{\\|w\\|}, \\quad \\|w\\|= \\sqrt{ w_1^2 + w_2^2 }.\n",
    "$$\n",
    "The points which lie on the margin on either side of the hyperplane are the support vectors\n"
   ]
  },
  {
   "cell_type": "code",
   "execution_count": 87,
   "metadata": {},
   "outputs": [
    {
     "name": "stdout",
     "output_type": "stream",
     "text": [
      "The emails which are the support vectors are [2937]for positive labels and for negative labels is [127]\n"
     ]
    }
   ],
   "source": [
    "pred = (feature_vector@c).reshape(-1,1)\n",
    "gammas = y*pred\n",
    "gammas_correct_positive_label=[]\n",
    "gammas_correct_negative_label=[]\n",
    "for i in range(pred.shape[0]):\n",
    "    if y[i]*pred[i] >1 and y[i]==-1:\n",
    "        gammas_correct_negative_label.append(y[i]*pred[i])\n",
    "    elif y[i]*pred[i] >1 and y[i]==1:\n",
    "        gammas_correct_positive_label.append(y[i]*pred[i])\n",
    "norm = math.sqrt(c.T@c)\n",
    "gammas_correct_negative_label = np.array(gammas_correct_negative_label)\n",
    "gammas_correct_positive_label = np.array(gammas_correct_positive_label)\n",
    "margin_positive_label = (gammas_correct_positive_label.min())/norm\n",
    "margin_negative_label = (gammas_correct_negative_label.min())/norm\n",
    "index1=np.where(gammas/norm==margin_positive_label)\n",
    "index2=np.where(gammas/norm==margin_negative_label)\n",
    "print(\"The emails which are the support vectors are \"+ str(index1[0])+\"for positive labels and for negative labels is \" + str(index2[0]))\n"
   ]
  },
  {
   "cell_type": "markdown",
   "metadata": {},
   "source": [
    "These are the emails which lie closest to our hypothesis plane. There are two points, one at the side of the positive label class and one to the side of negative label class. We found the support vector by finding the minimum distance of the points from the correctly classified points. This was done for both the label classes and then the points were found out"
   ]
  },
  {
   "cell_type": "markdown",
   "metadata": {},
   "source": [
    "Question 4.4.4"
   ]
  },
  {
   "cell_type": "markdown",
   "metadata": {},
   "source": [
    "The error coming from the test set by using pegasos comes out to be 0.023 wherease that coming from perceptron came out to be 0.021. We can see that the performance is also same when using the 0-1 loss. However below is an implementation when we removed the filter from the vocabulary. The exercise was done above and is not shown here because of repetition"
   ]
  },
  {
   "cell_type": "markdown",
   "metadata": {},
   "source": [
    "Sparse vectors were not required because they were used for finding out the final feature vector in the emails"
   ]
  },
  {
   "cell_type": "code",
   "execution_count": 19,
   "metadata": {},
   "outputs": [
    {
     "name": "stdout",
     "output_type": "stream",
     "text": [
      "Error on the test set is 0.019\n"
     ]
    }
   ],
   "source": [
    "index = np.argmin(e_validate)\n",
    "Lambda = lambdas[index]\n",
    "c,J = pegasos_svm_train(data,np.zeros(data.shape[1]-1),Lambda)\n",
    "error = pegasos_svm_test(data_test,c)\n",
    "print(\"Error on the test set is \" + str(error))"
   ]
  },
  {
   "cell_type": "markdown",
   "metadata": {},
   "source": [
    "We can see that the performance of SVM improved and gave a better result than the perceptron algorithm when the features were not filtererd"
   ]
  }
 ],
 "metadata": {
  "kernelspec": {
   "display_name": "Python 3",
   "language": "python",
   "name": "python3"
  },
  "language_info": {
   "codemirror_mode": {
    "name": "ipython",
    "version": 3
   },
   "file_extension": ".py",
   "mimetype": "text/x-python",
   "name": "python",
   "nbconvert_exporter": "python",
   "pygments_lexer": "ipython3",
   "version": "3.7.0"
  }
 },
 "nbformat": 4,
 "nbformat_minor": 2
}
